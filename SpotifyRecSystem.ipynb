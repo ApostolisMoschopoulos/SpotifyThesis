{
 "cells": [
  {
   "cell_type": "code",
   "execution_count": 1,
   "metadata": {
    "id": "dxzvXItcO1NC"
   },
   "outputs": [],
   "source": [
    "import json\n",
    "import numpy as np\n",
    "import pandas as pd\n",
    "import scipy.sparse as sp"
   ]
  },
  {
   "cell_type": "code",
   "execution_count": 2,
   "metadata": {
    "id": "WsluWOAPPyg4"
   },
   "outputs": [],
   "source": [
    "#fuction to read one json per time\n",
    "def read_from_json(start):\n",
    "  stop = start + 1000\n",
    "  path = r'C:\\Users\\user\\Documents\\SpotifyComptetition\\data\\mpd.slice.' + str(start) + '-' + str(stop - 1) + '.json'\n",
    "  data = json.load(open(path,'r'))\n",
    "  thisSlice = pd.DataFrame.from_dict(data['playlists'], orient='columns')\n",
    "  return thisSlice"
   ]
  },
  {
   "cell_type": "code",
   "execution_count": 3,
   "metadata": {
    "id": "gyY3fLhS3C5h"
   },
   "outputs": [],
   "source": [
    "############################ test\n",
    "songPlaylistArray = []\n",
    "start = 0\n",
    "while start != 4000:\n",
    "     thisSlice = read_from_json(start)\n",
    "     songPlaylistArray.append(thisSlice)\n",
    "     start+= 1000\n",
    "train = pd.concat(songPlaylistArray)"
   ]
  },
  {
   "cell_type": "code",
   "execution_count": 4,
   "metadata": {},
   "outputs": [
    {
     "data": {
      "text/html": [
       "<div>\n",
       "<style scoped>\n",
       "    .dataframe tbody tr th:only-of-type {\n",
       "        vertical-align: middle;\n",
       "    }\n",
       "\n",
       "    .dataframe tbody tr th {\n",
       "        vertical-align: top;\n",
       "    }\n",
       "\n",
       "    .dataframe thead th {\n",
       "        text-align: right;\n",
       "    }\n",
       "</style>\n",
       "<table border=\"1\" class=\"dataframe\">\n",
       "  <thead>\n",
       "    <tr style=\"text-align: right;\">\n",
       "      <th></th>\n",
       "      <th>name</th>\n",
       "      <th>collaborative</th>\n",
       "      <th>pid</th>\n",
       "      <th>modified_at</th>\n",
       "      <th>num_tracks</th>\n",
       "      <th>num_albums</th>\n",
       "      <th>num_followers</th>\n",
       "      <th>tracks</th>\n",
       "      <th>num_edits</th>\n",
       "      <th>duration_ms</th>\n",
       "      <th>num_artists</th>\n",
       "      <th>description</th>\n",
       "    </tr>\n",
       "  </thead>\n",
       "  <tbody>\n",
       "    <tr>\n",
       "      <th>0</th>\n",
       "      <td>Throwbacks</td>\n",
       "      <td>false</td>\n",
       "      <td>0</td>\n",
       "      <td>1493424000</td>\n",
       "      <td>52</td>\n",
       "      <td>47</td>\n",
       "      <td>1</td>\n",
       "      <td>[{'pos': 0, 'artist_name': 'Missy Elliott', 't...</td>\n",
       "      <td>6</td>\n",
       "      <td>11532414</td>\n",
       "      <td>37</td>\n",
       "      <td>NaN</td>\n",
       "    </tr>\n",
       "    <tr>\n",
       "      <th>1</th>\n",
       "      <td>Awesome Playlist</td>\n",
       "      <td>false</td>\n",
       "      <td>1</td>\n",
       "      <td>1506556800</td>\n",
       "      <td>39</td>\n",
       "      <td>23</td>\n",
       "      <td>1</td>\n",
       "      <td>[{'pos': 0, 'artist_name': 'Survivor', 'track_...</td>\n",
       "      <td>5</td>\n",
       "      <td>11656470</td>\n",
       "      <td>21</td>\n",
       "      <td>NaN</td>\n",
       "    </tr>\n",
       "    <tr>\n",
       "      <th>2</th>\n",
       "      <td>korean</td>\n",
       "      <td>false</td>\n",
       "      <td>2</td>\n",
       "      <td>1505692800</td>\n",
       "      <td>64</td>\n",
       "      <td>51</td>\n",
       "      <td>1</td>\n",
       "      <td>[{'pos': 0, 'artist_name': 'Hoody', 'track_uri...</td>\n",
       "      <td>18</td>\n",
       "      <td>14039958</td>\n",
       "      <td>31</td>\n",
       "      <td>NaN</td>\n",
       "    </tr>\n",
       "    <tr>\n",
       "      <th>3</th>\n",
       "      <td>mat</td>\n",
       "      <td>false</td>\n",
       "      <td>3</td>\n",
       "      <td>1501027200</td>\n",
       "      <td>126</td>\n",
       "      <td>107</td>\n",
       "      <td>1</td>\n",
       "      <td>[{'pos': 0, 'artist_name': 'Camille Saint-Saën...</td>\n",
       "      <td>4</td>\n",
       "      <td>28926058</td>\n",
       "      <td>86</td>\n",
       "      <td>NaN</td>\n",
       "    </tr>\n",
       "    <tr>\n",
       "      <th>4</th>\n",
       "      <td>90s</td>\n",
       "      <td>false</td>\n",
       "      <td>4</td>\n",
       "      <td>1401667200</td>\n",
       "      <td>17</td>\n",
       "      <td>16</td>\n",
       "      <td>2</td>\n",
       "      <td>[{'pos': 0, 'artist_name': 'The Smashing Pumpk...</td>\n",
       "      <td>7</td>\n",
       "      <td>4335282</td>\n",
       "      <td>16</td>\n",
       "      <td>NaN</td>\n",
       "    </tr>\n",
       "    <tr>\n",
       "      <th>...</th>\n",
       "      <td>...</td>\n",
       "      <td>...</td>\n",
       "      <td>...</td>\n",
       "      <td>...</td>\n",
       "      <td>...</td>\n",
       "      <td>...</td>\n",
       "      <td>...</td>\n",
       "      <td>...</td>\n",
       "      <td>...</td>\n",
       "      <td>...</td>\n",
       "      <td>...</td>\n",
       "      <td>...</td>\n",
       "    </tr>\n",
       "    <tr>\n",
       "      <th>995</th>\n",
       "      <td>Chill</td>\n",
       "      <td>false</td>\n",
       "      <td>3995</td>\n",
       "      <td>1497830400</td>\n",
       "      <td>33</td>\n",
       "      <td>26</td>\n",
       "      <td>1</td>\n",
       "      <td>[{'pos': 0, 'artist_name': 'Frank Ocean', 'tra...</td>\n",
       "      <td>7</td>\n",
       "      <td>8477473</td>\n",
       "      <td>17</td>\n",
       "      <td>NaN</td>\n",
       "    </tr>\n",
       "    <tr>\n",
       "      <th>996</th>\n",
       "      <td>Miles</td>\n",
       "      <td>false</td>\n",
       "      <td>3996</td>\n",
       "      <td>1507593600</td>\n",
       "      <td>68</td>\n",
       "      <td>63</td>\n",
       "      <td>1</td>\n",
       "      <td>[{'pos': 0, 'artist_name': 'Anna Of The North'...</td>\n",
       "      <td>28</td>\n",
       "      <td>15525546</td>\n",
       "      <td>54</td>\n",
       "      <td>NaN</td>\n",
       "    </tr>\n",
       "    <tr>\n",
       "      <th>997</th>\n",
       "      <td>Mellow Mood</td>\n",
       "      <td>false</td>\n",
       "      <td>3997</td>\n",
       "      <td>1489536000</td>\n",
       "      <td>33</td>\n",
       "      <td>33</td>\n",
       "      <td>1</td>\n",
       "      <td>[{'pos': 0, 'artist_name': 'Burial, Four Tet, ...</td>\n",
       "      <td>20</td>\n",
       "      <td>8997965</td>\n",
       "      <td>29</td>\n",
       "      <td>NaN</td>\n",
       "    </tr>\n",
       "    <tr>\n",
       "      <th>998</th>\n",
       "      <td>mix up</td>\n",
       "      <td>false</td>\n",
       "      <td>3998</td>\n",
       "      <td>1509408000</td>\n",
       "      <td>187</td>\n",
       "      <td>97</td>\n",
       "      <td>3</td>\n",
       "      <td>[{'pos': 0, 'artist_name': 'Drake', 'track_uri...</td>\n",
       "      <td>58</td>\n",
       "      <td>43506514</td>\n",
       "      <td>54</td>\n",
       "      <td>NaN</td>\n",
       "    </tr>\n",
       "    <tr>\n",
       "      <th>999</th>\n",
       "      <td>other</td>\n",
       "      <td>false</td>\n",
       "      <td>3999</td>\n",
       "      <td>1420848000</td>\n",
       "      <td>97</td>\n",
       "      <td>56</td>\n",
       "      <td>1</td>\n",
       "      <td>[{'pos': 0, 'artist_name': 'Lifehouse', 'track...</td>\n",
       "      <td>9</td>\n",
       "      <td>22548683</td>\n",
       "      <td>17</td>\n",
       "      <td>NaN</td>\n",
       "    </tr>\n",
       "  </tbody>\n",
       "</table>\n",
       "<p>4000 rows × 12 columns</p>\n",
       "</div>"
      ],
      "text/plain": [
       "                 name collaborative   pid  modified_at  num_tracks  \\\n",
       "0          Throwbacks         false     0   1493424000          52   \n",
       "1    Awesome Playlist         false     1   1506556800          39   \n",
       "2             korean          false     2   1505692800          64   \n",
       "3                 mat         false     3   1501027200         126   \n",
       "4                 90s         false     4   1401667200          17   \n",
       "..                ...           ...   ...          ...         ...   \n",
       "995             Chill         false  3995   1497830400          33   \n",
       "996             Miles         false  3996   1507593600          68   \n",
       "997       Mellow Mood         false  3997   1489536000          33   \n",
       "998            mix up         false  3998   1509408000         187   \n",
       "999             other         false  3999   1420848000          97   \n",
       "\n",
       "     num_albums  num_followers  \\\n",
       "0            47              1   \n",
       "1            23              1   \n",
       "2            51              1   \n",
       "3           107              1   \n",
       "4            16              2   \n",
       "..          ...            ...   \n",
       "995          26              1   \n",
       "996          63              1   \n",
       "997          33              1   \n",
       "998          97              3   \n",
       "999          56              1   \n",
       "\n",
       "                                                tracks  num_edits  \\\n",
       "0    [{'pos': 0, 'artist_name': 'Missy Elliott', 't...          6   \n",
       "1    [{'pos': 0, 'artist_name': 'Survivor', 'track_...          5   \n",
       "2    [{'pos': 0, 'artist_name': 'Hoody', 'track_uri...         18   \n",
       "3    [{'pos': 0, 'artist_name': 'Camille Saint-Saën...          4   \n",
       "4    [{'pos': 0, 'artist_name': 'The Smashing Pumpk...          7   \n",
       "..                                                 ...        ...   \n",
       "995  [{'pos': 0, 'artist_name': 'Frank Ocean', 'tra...          7   \n",
       "996  [{'pos': 0, 'artist_name': 'Anna Of The North'...         28   \n",
       "997  [{'pos': 0, 'artist_name': 'Burial, Four Tet, ...         20   \n",
       "998  [{'pos': 0, 'artist_name': 'Drake', 'track_uri...         58   \n",
       "999  [{'pos': 0, 'artist_name': 'Lifehouse', 'track...          9   \n",
       "\n",
       "     duration_ms  num_artists description  \n",
       "0       11532414           37         NaN  \n",
       "1       11656470           21         NaN  \n",
       "2       14039958           31         NaN  \n",
       "3       28926058           86         NaN  \n",
       "4        4335282           16         NaN  \n",
       "..           ...          ...         ...  \n",
       "995      8477473           17         NaN  \n",
       "996     15525546           54         NaN  \n",
       "997      8997965           29         NaN  \n",
       "998     43506514           54         NaN  \n",
       "999     22548683           17         NaN  \n",
       "\n",
       "[4000 rows x 12 columns]"
      ]
     },
     "execution_count": 4,
     "metadata": {},
     "output_type": "execute_result"
    }
   ],
   "source": [
    "train"
   ]
  },
  {
   "cell_type": "code",
   "execution_count": 5,
   "metadata": {
    "id": "lnyrwZM5VInx"
   },
   "outputs": [],
   "source": [
    "test_df = json.load(open(r'C:\\Users\\user\\Documents\\SpotifyComptetition\\challenge_set.json','r')) \n",
    "test_df = pd.DataFrame.from_dict(test_df['playlists'],orient='columns')"
   ]
  },
  {
   "cell_type": "code",
   "execution_count": 6,
   "metadata": {
    "id": "JkJGN0Xe2oWb"
   },
   "outputs": [],
   "source": [
    "test_first_1000 = test_df[test_df['num_samples'] == 0]\n",
    "challenge_set_pid = test_df['pid']\n",
    "test_df.drop(test_df[test_df['num_samples'] == 0].index, inplace = True) #Drop records from challenge set that dont contain any track"
   ]
  },
  {
   "cell_type": "code",
   "execution_count": 7,
   "metadata": {},
   "outputs": [
    {
     "data": {
      "text/html": [
       "<div>\n",
       "<style scoped>\n",
       "    .dataframe tbody tr th:only-of-type {\n",
       "        vertical-align: middle;\n",
       "    }\n",
       "\n",
       "    .dataframe tbody tr th {\n",
       "        vertical-align: top;\n",
       "    }\n",
       "\n",
       "    .dataframe thead th {\n",
       "        text-align: right;\n",
       "    }\n",
       "</style>\n",
       "<table border=\"1\" class=\"dataframe\">\n",
       "  <thead>\n",
       "    <tr style=\"text-align: right;\">\n",
       "      <th></th>\n",
       "      <th>name</th>\n",
       "      <th>num_holdouts</th>\n",
       "      <th>pid</th>\n",
       "      <th>num_tracks</th>\n",
       "      <th>tracks</th>\n",
       "      <th>num_samples</th>\n",
       "    </tr>\n",
       "  </thead>\n",
       "  <tbody>\n",
       "    <tr>\n",
       "      <th>1000</th>\n",
       "      <td>Party</td>\n",
       "      <td>70</td>\n",
       "      <td>1000000</td>\n",
       "      <td>75</td>\n",
       "      <td>[{'pos': 0, 'artist_name': 'AronChupa', 'track...</td>\n",
       "      <td>5</td>\n",
       "    </tr>\n",
       "    <tr>\n",
       "      <th>1001</th>\n",
       "      <td>school</td>\n",
       "      <td>73</td>\n",
       "      <td>1000016</td>\n",
       "      <td>78</td>\n",
       "      <td>[{'pos': 0, 'artist_name': 'Alesso', 'track_ur...</td>\n",
       "      <td>5</td>\n",
       "    </tr>\n",
       "    <tr>\n",
       "      <th>1002</th>\n",
       "      <td>Modern Music</td>\n",
       "      <td>63</td>\n",
       "      <td>1000020</td>\n",
       "      <td>68</td>\n",
       "      <td>[{'pos': 0, 'artist_name': 'Banks', 'track_uri...</td>\n",
       "      <td>5</td>\n",
       "    </tr>\n",
       "    <tr>\n",
       "      <th>1003</th>\n",
       "      <td>lit 2.0</td>\n",
       "      <td>49</td>\n",
       "      <td>1000023</td>\n",
       "      <td>54</td>\n",
       "      <td>[{'pos': 0, 'artist_name': 'Galantis', 'track_...</td>\n",
       "      <td>5</td>\n",
       "    </tr>\n",
       "    <tr>\n",
       "      <th>1004</th>\n",
       "      <td>bbq</td>\n",
       "      <td>71</td>\n",
       "      <td>1000040</td>\n",
       "      <td>76</td>\n",
       "      <td>[{'pos': 0, 'artist_name': 'Stick Figure', 'tr...</td>\n",
       "      <td>5</td>\n",
       "    </tr>\n",
       "    <tr>\n",
       "      <th>...</th>\n",
       "      <td>...</td>\n",
       "      <td>...</td>\n",
       "      <td>...</td>\n",
       "      <td>...</td>\n",
       "      <td>...</td>\n",
       "      <td>...</td>\n",
       "    </tr>\n",
       "    <tr>\n",
       "      <th>9995</th>\n",
       "      <td>Playlist 2015</td>\n",
       "      <td>20</td>\n",
       "      <td>1006767</td>\n",
       "      <td>21</td>\n",
       "      <td>[{'pos': 0, 'artist_name': 'El Gran Combo De P...</td>\n",
       "      <td>1</td>\n",
       "    </tr>\n",
       "    <tr>\n",
       "      <th>9996</th>\n",
       "      <td>Workout</td>\n",
       "      <td>24</td>\n",
       "      <td>1006771</td>\n",
       "      <td>25</td>\n",
       "      <td>[{'pos': 0, 'artist_name': '2Pac', 'track_uri'...</td>\n",
       "      <td>1</td>\n",
       "    </tr>\n",
       "    <tr>\n",
       "      <th>9997</th>\n",
       "      <td>Girlz</td>\n",
       "      <td>16</td>\n",
       "      <td>1006773</td>\n",
       "      <td>17</td>\n",
       "      <td>[{'pos': 0, 'artist_name': 'Ashley DuBose', 't...</td>\n",
       "      <td>1</td>\n",
       "    </tr>\n",
       "    <tr>\n",
       "      <th>9998</th>\n",
       "      <td>let's get lost</td>\n",
       "      <td>35</td>\n",
       "      <td>1006775</td>\n",
       "      <td>36</td>\n",
       "      <td>[{'pos': 0, 'artist_name': 'blackbear', 'track...</td>\n",
       "      <td>1</td>\n",
       "    </tr>\n",
       "    <tr>\n",
       "      <th>9999</th>\n",
       "      <td>Mama</td>\n",
       "      <td>28</td>\n",
       "      <td>1006778</td>\n",
       "      <td>29</td>\n",
       "      <td>[{'pos': 0, 'artist_name': 'Jonas Blue', 'trac...</td>\n",
       "      <td>1</td>\n",
       "    </tr>\n",
       "  </tbody>\n",
       "</table>\n",
       "<p>9000 rows × 6 columns</p>\n",
       "</div>"
      ],
      "text/plain": [
       "                name  num_holdouts      pid  num_tracks  \\\n",
       "1000           Party            70  1000000          75   \n",
       "1001          school            73  1000016          78   \n",
       "1002    Modern Music            63  1000020          68   \n",
       "1003         lit 2.0            49  1000023          54   \n",
       "1004             bbq            71  1000040          76   \n",
       "...              ...           ...      ...         ...   \n",
       "9995   Playlist 2015            20  1006767          21   \n",
       "9996         Workout            24  1006771          25   \n",
       "9997           Girlz            16  1006773          17   \n",
       "9998  let's get lost            35  1006775          36   \n",
       "9999            Mama            28  1006778          29   \n",
       "\n",
       "                                                 tracks  num_samples  \n",
       "1000  [{'pos': 0, 'artist_name': 'AronChupa', 'track...            5  \n",
       "1001  [{'pos': 0, 'artist_name': 'Alesso', 'track_ur...            5  \n",
       "1002  [{'pos': 0, 'artist_name': 'Banks', 'track_uri...            5  \n",
       "1003  [{'pos': 0, 'artist_name': 'Galantis', 'track_...            5  \n",
       "1004  [{'pos': 0, 'artist_name': 'Stick Figure', 'tr...            5  \n",
       "...                                                 ...          ...  \n",
       "9995  [{'pos': 0, 'artist_name': 'El Gran Combo De P...            1  \n",
       "9996  [{'pos': 0, 'artist_name': '2Pac', 'track_uri'...            1  \n",
       "9997  [{'pos': 0, 'artist_name': 'Ashley DuBose', 't...            1  \n",
       "9998  [{'pos': 0, 'artist_name': 'blackbear', 'track...            1  \n",
       "9999  [{'pos': 0, 'artist_name': 'Jonas Blue', 'trac...            1  \n",
       "\n",
       "[9000 rows x 6 columns]"
      ]
     },
     "execution_count": 7,
     "metadata": {},
     "output_type": "execute_result"
    }
   ],
   "source": [
    "test_df"
   ]
  },
  {
   "cell_type": "code",
   "execution_count": 8,
   "metadata": {},
   "outputs": [
    {
     "name": "stdout",
     "output_type": "stream",
     "text": [
      "10000\n"
     ]
    }
   ],
   "source": [
    "challenge_set_pid_last_9000 = challenge_set_pid[1000:]\n",
    "challenge_set_pid_first_1000 = challenge_set_pid[:1000]\n",
    "print(len(challenge_set_pid))"
   ]
  },
  {
   "cell_type": "code",
   "execution_count": 9,
   "metadata": {},
   "outputs": [
    {
     "data": {
      "text/plain": [
       "1000    1000000\n",
       "1001    1000016\n",
       "1002    1000020\n",
       "1003    1000023\n",
       "1004    1000040\n",
       "         ...   \n",
       "9995    1006767\n",
       "9996    1006771\n",
       "9997    1006773\n",
       "9998    1006775\n",
       "9999    1006778\n",
       "Name: pid, Length: 9000, dtype: int64"
      ]
     },
     "execution_count": 9,
     "metadata": {},
     "output_type": "execute_result"
    }
   ],
   "source": [
    "challenge_set_pid_last_9000"
   ]
  },
  {
   "cell_type": "code",
   "execution_count": 10,
   "metadata": {
    "id": "1iME5irxxnis"
   },
   "outputs": [],
   "source": [
    "for i, row in test_df.iterrows(): #change the enumeration of challenge set pid's\n",
    "    test_df.at[i,'pid'] = int(3000 + i)"
   ]
  },
  {
   "cell_type": "code",
   "execution_count": 11,
   "metadata": {},
   "outputs": [
    {
     "data": {
      "text/plain": [
       "(9000, 6)"
      ]
     },
     "execution_count": 11,
     "metadata": {},
     "output_type": "execute_result"
    }
   ],
   "source": [
    "test_df.shape"
   ]
  },
  {
   "cell_type": "code",
   "execution_count": 12,
   "metadata": {
    "colab": {
     "base_uri": "https://localhost:8080/",
     "height": 289
    },
    "id": "3Fa7YSu-VIqw",
    "outputId": "163bf3da-116a-4cf1-93a9-bec652878bee"
   },
   "outputs": [
    {
     "data": {
      "text/html": [
       "<div>\n",
       "<style scoped>\n",
       "    .dataframe tbody tr th:only-of-type {\n",
       "        vertical-align: middle;\n",
       "    }\n",
       "\n",
       "    .dataframe tbody tr th {\n",
       "        vertical-align: top;\n",
       "    }\n",
       "\n",
       "    .dataframe thead th {\n",
       "        text-align: right;\n",
       "    }\n",
       "</style>\n",
       "<table border=\"1\" class=\"dataframe\">\n",
       "  <thead>\n",
       "    <tr style=\"text-align: right;\">\n",
       "      <th></th>\n",
       "      <th>name</th>\n",
       "      <th>collaborative</th>\n",
       "      <th>pid</th>\n",
       "      <th>modified_at</th>\n",
       "      <th>num_tracks</th>\n",
       "      <th>num_albums</th>\n",
       "      <th>num_followers</th>\n",
       "      <th>tracks</th>\n",
       "      <th>num_edits</th>\n",
       "      <th>duration_ms</th>\n",
       "      <th>num_artists</th>\n",
       "      <th>description</th>\n",
       "      <th>num_holdouts</th>\n",
       "      <th>num_samples</th>\n",
       "    </tr>\n",
       "  </thead>\n",
       "  <tbody>\n",
       "    <tr>\n",
       "      <th>0</th>\n",
       "      <td>Throwbacks</td>\n",
       "      <td>false</td>\n",
       "      <td>0</td>\n",
       "      <td>1.493424e+09</td>\n",
       "      <td>52</td>\n",
       "      <td>47.0</td>\n",
       "      <td>1.0</td>\n",
       "      <td>[{'pos': 0, 'artist_name': 'Missy Elliott', 't...</td>\n",
       "      <td>6.0</td>\n",
       "      <td>11532414.0</td>\n",
       "      <td>37.0</td>\n",
       "      <td>NaN</td>\n",
       "      <td>NaN</td>\n",
       "      <td>NaN</td>\n",
       "    </tr>\n",
       "    <tr>\n",
       "      <th>1</th>\n",
       "      <td>Awesome Playlist</td>\n",
       "      <td>false</td>\n",
       "      <td>1</td>\n",
       "      <td>1.506557e+09</td>\n",
       "      <td>39</td>\n",
       "      <td>23.0</td>\n",
       "      <td>1.0</td>\n",
       "      <td>[{'pos': 0, 'artist_name': 'Survivor', 'track_...</td>\n",
       "      <td>5.0</td>\n",
       "      <td>11656470.0</td>\n",
       "      <td>21.0</td>\n",
       "      <td>NaN</td>\n",
       "      <td>NaN</td>\n",
       "      <td>NaN</td>\n",
       "    </tr>\n",
       "    <tr>\n",
       "      <th>2</th>\n",
       "      <td>korean</td>\n",
       "      <td>false</td>\n",
       "      <td>2</td>\n",
       "      <td>1.505693e+09</td>\n",
       "      <td>64</td>\n",
       "      <td>51.0</td>\n",
       "      <td>1.0</td>\n",
       "      <td>[{'pos': 0, 'artist_name': 'Hoody', 'track_uri...</td>\n",
       "      <td>18.0</td>\n",
       "      <td>14039958.0</td>\n",
       "      <td>31.0</td>\n",
       "      <td>NaN</td>\n",
       "      <td>NaN</td>\n",
       "      <td>NaN</td>\n",
       "    </tr>\n",
       "    <tr>\n",
       "      <th>3</th>\n",
       "      <td>mat</td>\n",
       "      <td>false</td>\n",
       "      <td>3</td>\n",
       "      <td>1.501027e+09</td>\n",
       "      <td>126</td>\n",
       "      <td>107.0</td>\n",
       "      <td>1.0</td>\n",
       "      <td>[{'pos': 0, 'artist_name': 'Camille Saint-Saën...</td>\n",
       "      <td>4.0</td>\n",
       "      <td>28926058.0</td>\n",
       "      <td>86.0</td>\n",
       "      <td>NaN</td>\n",
       "      <td>NaN</td>\n",
       "      <td>NaN</td>\n",
       "    </tr>\n",
       "    <tr>\n",
       "      <th>4</th>\n",
       "      <td>90s</td>\n",
       "      <td>false</td>\n",
       "      <td>4</td>\n",
       "      <td>1.401667e+09</td>\n",
       "      <td>17</td>\n",
       "      <td>16.0</td>\n",
       "      <td>2.0</td>\n",
       "      <td>[{'pos': 0, 'artist_name': 'The Smashing Pumpk...</td>\n",
       "      <td>7.0</td>\n",
       "      <td>4335282.0</td>\n",
       "      <td>16.0</td>\n",
       "      <td>NaN</td>\n",
       "      <td>NaN</td>\n",
       "      <td>NaN</td>\n",
       "    </tr>\n",
       "  </tbody>\n",
       "</table>\n",
       "</div>"
      ],
      "text/plain": [
       "               name collaborative  pid   modified_at  num_tracks  num_albums  \\\n",
       "0        Throwbacks         false    0  1.493424e+09          52        47.0   \n",
       "1  Awesome Playlist         false    1  1.506557e+09          39        23.0   \n",
       "2           korean          false    2  1.505693e+09          64        51.0   \n",
       "3               mat         false    3  1.501027e+09         126       107.0   \n",
       "4               90s         false    4  1.401667e+09          17        16.0   \n",
       "\n",
       "   num_followers                                             tracks  \\\n",
       "0            1.0  [{'pos': 0, 'artist_name': 'Missy Elliott', 't...   \n",
       "1            1.0  [{'pos': 0, 'artist_name': 'Survivor', 'track_...   \n",
       "2            1.0  [{'pos': 0, 'artist_name': 'Hoody', 'track_uri...   \n",
       "3            1.0  [{'pos': 0, 'artist_name': 'Camille Saint-Saën...   \n",
       "4            2.0  [{'pos': 0, 'artist_name': 'The Smashing Pumpk...   \n",
       "\n",
       "   num_edits  duration_ms  num_artists description  num_holdouts  num_samples  \n",
       "0        6.0   11532414.0         37.0         NaN           NaN          NaN  \n",
       "1        5.0   11656470.0         21.0         NaN           NaN          NaN  \n",
       "2       18.0   14039958.0         31.0         NaN           NaN          NaN  \n",
       "3        4.0   28926058.0         86.0         NaN           NaN          NaN  \n",
       "4        7.0    4335282.0         16.0         NaN           NaN          NaN  "
      ]
     },
     "execution_count": 12,
     "metadata": {},
     "output_type": "execute_result"
    }
   ],
   "source": [
    "train_test_data = pd.concat([train,test_df])\n",
    "train_test_data.head()"
   ]
  },
  {
   "cell_type": "code",
   "execution_count": 13,
   "metadata": {},
   "outputs": [
    {
     "data": {
      "text/plain": [
       "(13000, 14)"
      ]
     },
     "execution_count": 13,
     "metadata": {},
     "output_type": "execute_result"
    }
   ],
   "source": [
    "train_test_data.shape"
   ]
  },
  {
   "cell_type": "code",
   "execution_count": 14,
   "metadata": {
    "colab": {
     "base_uri": "https://localhost:8080/",
     "height": 376
    },
    "id": "Oi9D6E4OVItH",
    "outputId": "6505bcb5-c5e4-46ed-adb1-9cbe1eb03a0d"
   },
   "outputs": [
    {
     "name": "stdout",
     "output_type": "stream",
     "text": [
      "(465457, 5)\n"
     ]
    },
    {
     "data": {
      "text/html": [
       "<div>\n",
       "<style scoped>\n",
       "    .dataframe tbody tr th:only-of-type {\n",
       "        vertical-align: middle;\n",
       "    }\n",
       "\n",
       "    .dataframe tbody tr th {\n",
       "        vertical-align: top;\n",
       "    }\n",
       "\n",
       "    .dataframe thead th {\n",
       "        text-align: right;\n",
       "    }\n",
       "</style>\n",
       "<table border=\"1\" class=\"dataframe\">\n",
       "  <thead>\n",
       "    <tr style=\"text-align: right;\">\n",
       "      <th></th>\n",
       "      <th>trackid</th>\n",
       "      <th>artist_name</th>\n",
       "      <th>track_name</th>\n",
       "      <th>pid</th>\n",
       "      <th>num_holdouts</th>\n",
       "    </tr>\n",
       "  </thead>\n",
       "  <tbody>\n",
       "    <tr>\n",
       "      <th>0</th>\n",
       "      <td>spotify:track:0UaMYEvWZi0ZqiDOoHU3YI</td>\n",
       "      <td>Missy Elliott</td>\n",
       "      <td>Lose Control (feat. Ciara &amp; Fat Man Scoop)</td>\n",
       "      <td>0</td>\n",
       "      <td>NaN</td>\n",
       "    </tr>\n",
       "    <tr>\n",
       "      <th>1</th>\n",
       "      <td>spotify:track:6I9VzXrHxO9rA9A5euc8Ak</td>\n",
       "      <td>Britney Spears</td>\n",
       "      <td>Toxic</td>\n",
       "      <td>0</td>\n",
       "      <td>NaN</td>\n",
       "    </tr>\n",
       "    <tr>\n",
       "      <th>2</th>\n",
       "      <td>spotify:track:0WqIKmW4BTrj3eJFmnCKMv</td>\n",
       "      <td>Beyoncé</td>\n",
       "      <td>Crazy In Love</td>\n",
       "      <td>0</td>\n",
       "      <td>NaN</td>\n",
       "    </tr>\n",
       "    <tr>\n",
       "      <th>3</th>\n",
       "      <td>spotify:track:1AWQoqb9bSvzTjaLralEkT</td>\n",
       "      <td>Justin Timberlake</td>\n",
       "      <td>Rock Your Body</td>\n",
       "      <td>0</td>\n",
       "      <td>NaN</td>\n",
       "    </tr>\n",
       "    <tr>\n",
       "      <th>4</th>\n",
       "      <td>spotify:track:1lzr43nnXAijIGYnCT8M8H</td>\n",
       "      <td>Shaggy</td>\n",
       "      <td>It Wasn't Me</td>\n",
       "      <td>0</td>\n",
       "      <td>NaN</td>\n",
       "    </tr>\n",
       "    <tr>\n",
       "      <th>5</th>\n",
       "      <td>spotify:track:0XUfyU2QviPAs6bxSpXYG4</td>\n",
       "      <td>Usher</td>\n",
       "      <td>Yeah!</td>\n",
       "      <td>0</td>\n",
       "      <td>NaN</td>\n",
       "    </tr>\n",
       "    <tr>\n",
       "      <th>6</th>\n",
       "      <td>spotify:track:68vgtRHr7iZHpzGpon6Jlo</td>\n",
       "      <td>Usher</td>\n",
       "      <td>My Boo</td>\n",
       "      <td>0</td>\n",
       "      <td>NaN</td>\n",
       "    </tr>\n",
       "    <tr>\n",
       "      <th>7</th>\n",
       "      <td>spotify:track:3BxWKCI06eQ5Od8TY2JBeA</td>\n",
       "      <td>The Pussycat Dolls</td>\n",
       "      <td>Buttons</td>\n",
       "      <td>0</td>\n",
       "      <td>NaN</td>\n",
       "    </tr>\n",
       "    <tr>\n",
       "      <th>8</th>\n",
       "      <td>spotify:track:7H6ev70Weq6DdpZyyTmUXk</td>\n",
       "      <td>Destiny's Child</td>\n",
       "      <td>Say My Name</td>\n",
       "      <td>0</td>\n",
       "      <td>NaN</td>\n",
       "    </tr>\n",
       "    <tr>\n",
       "      <th>9</th>\n",
       "      <td>spotify:track:2PpruBYCo4H7WOBJ7Q2EwM</td>\n",
       "      <td>OutKast</td>\n",
       "      <td>Hey Ya! - Radio Mix / Club Mix</td>\n",
       "      <td>0</td>\n",
       "      <td>NaN</td>\n",
       "    </tr>\n",
       "  </tbody>\n",
       "</table>\n",
       "</div>"
      ],
      "text/plain": [
       "                                trackid         artist_name  \\\n",
       "0  spotify:track:0UaMYEvWZi0ZqiDOoHU3YI       Missy Elliott   \n",
       "1  spotify:track:6I9VzXrHxO9rA9A5euc8Ak      Britney Spears   \n",
       "2  spotify:track:0WqIKmW4BTrj3eJFmnCKMv             Beyoncé   \n",
       "3  spotify:track:1AWQoqb9bSvzTjaLralEkT   Justin Timberlake   \n",
       "4  spotify:track:1lzr43nnXAijIGYnCT8M8H              Shaggy   \n",
       "5  spotify:track:0XUfyU2QviPAs6bxSpXYG4               Usher   \n",
       "6  spotify:track:68vgtRHr7iZHpzGpon6Jlo               Usher   \n",
       "7  spotify:track:3BxWKCI06eQ5Od8TY2JBeA  The Pussycat Dolls   \n",
       "8  spotify:track:7H6ev70Weq6DdpZyyTmUXk     Destiny's Child   \n",
       "9  spotify:track:2PpruBYCo4H7WOBJ7Q2EwM             OutKast   \n",
       "\n",
       "                                   track_name  pid  num_holdouts  \n",
       "0  Lose Control (feat. Ciara & Fat Man Scoop)    0           NaN  \n",
       "1                                       Toxic    0           NaN  \n",
       "2                               Crazy In Love    0           NaN  \n",
       "3                              Rock Your Body    0           NaN  \n",
       "4                                It Wasn't Me    0           NaN  \n",
       "5                                       Yeah!    0           NaN  \n",
       "6                                      My Boo    0           NaN  \n",
       "7                                     Buttons    0           NaN  \n",
       "8                                 Say My Name    0           NaN  \n",
       "9              Hey Ya! - Radio Mix / Club Mix    0           NaN  "
      ]
     },
     "execution_count": 14,
     "metadata": {},
     "output_type": "execute_result"
    }
   ],
   "source": [
    "#itterate every playlist and organise dataframe with trackid as a key \n",
    "import random\n",
    "random.seed(10)\n",
    "\n",
    "test_tracks_dict = []\n",
    "song_playlist_array = []\n",
    "for index,row in train_test_data.iterrows():\n",
    "    for track in row['tracks']:\n",
    "        if(random.random() < 0.85):\n",
    "            song_playlist_array.append([track['track_uri'],track['artist_name'],track['track_name'],row['pid'],row['num_holdouts']])\n",
    "        elif(len(row['tracks']) == 1):\n",
    "            song_playlist_array.append([track['track_uri'],track['artist_name'],track['track_name'],row['pid'],row['num_holdouts']])\n",
    "        else:\n",
    "            test_tracks_dict.append([row['pid'], track['track_uri']])\n",
    "song_playlist_df = pd.DataFrame(song_playlist_array,columns=['trackid', 'artist_name', 'track_name', 'pid', 'num_holdouts'])\n",
    "\n",
    "print(song_playlist_df.shape)\n",
    "song_playlist_df.head(10)"
   ]
  },
  {
   "cell_type": "code",
   "execution_count": 15,
   "metadata": {},
   "outputs": [
    {
     "name": "stdout",
     "output_type": "stream",
     "text": [
      "Wall time: 2min 42s\n"
     ]
    }
   ],
   "source": [
    "%%time\n",
    "counter = 0\n",
    "contentent_based_tracks = []\n",
    "##content based applied on playlists that have <= 5 tracks its like a preprocessing for colaborative filtering\n",
    "for pid in range(4000,13000):\n",
    "    if(len(song_playlist_df[song_playlist_df[\"pid\"] == pid]) <= 10):\n",
    "        counter += 1\n",
    "        artists_set = set(song_playlist_df[song_playlist_df[\"pid\"] == pid][\"artist_name\"].tolist())\n",
    "        rows_artists = song_playlist_df[song_playlist_df.artist_name.isin(artists_set)]\n",
    "        rows_artists = rows_artists.drop_duplicates(\"track_name\")\n",
    "        track_names_exist = list(song_playlist_df[song_playlist_df[\"pid\"] == pid][\"track_name\"])\n",
    "        rows_artists = rows_artists[~rows_artists.track_name.isin(track_names_exist)]\n",
    "        rows_artists = rows_artists[:30]\n",
    "        rows_artists[\"pid\"] = pid\n",
    "        contentent_based_tracks.extend(rows_artists.values.tolist())"
   ]
  },
  {
   "cell_type": "code",
   "execution_count": 16,
   "metadata": {},
   "outputs": [],
   "source": [
    "current_pid = 0\n",
    "previous_pid = 0\n",
    "set_of_pids = set()\n",
    "set_of_reccomended_tracks_by_content_based = {}\n",
    "for track in contentent_based_tracks:\n",
    "    current_pid = track[3]\n",
    "    set_of_pids.add(current_pid)\n",
    "    if(current_pid > previous_pid):\n",
    "        set_of_reccomended_tracks_by_content_based[current_pid] = {track[0]}\n",
    "        previous_pid = current_pid\n",
    "    else:\n",
    "        set_of_reccomended_tracks_by_content_based[current_pid].add(track[0])"
   ]
  },
  {
   "cell_type": "code",
   "execution_count": 17,
   "metadata": {},
   "outputs": [],
   "source": [
    "df_content_reccomended_tracks = pd.DataFrame(contentent_based_tracks, columns = (\"trackid\",\"artist_name\",\"track_name\",\"pid\",\"num_hodouts\"))"
   ]
  },
  {
   "cell_type": "code",
   "execution_count": 18,
   "metadata": {},
   "outputs": [],
   "source": [
    "song_playlist_df = pd.concat([song_playlist_df,df_content_reccomended_tracks])"
   ]
  },
  {
   "cell_type": "code",
   "execution_count": 19,
   "metadata": {},
   "outputs": [],
   "source": [
    "song_playlist_df = song_playlist_df.sort_values(\"pid\")"
   ]
  },
  {
   "cell_type": "code",
   "execution_count": 20,
   "metadata": {},
   "outputs": [],
   "source": [
    "#set(song_playlist_df[song_playlist_df.artist_name.isin(artists_set)][\"trackid\"])\n",
    "#set(song_playlist_df[song_playlist_df[\"pid\"] == pid][\"track_name\"])\n",
    "#35"
   ]
  },
  {
   "cell_type": "code",
   "execution_count": 21,
   "metadata": {},
   "outputs": [
    {
     "data": {
      "text/plain": [
       "4924"
      ]
     },
     "execution_count": 21,
     "metadata": {},
     "output_type": "execute_result"
    }
   ],
   "source": [
    "len(df_content_reccomended_tracks[\"pid\"].unique())"
   ]
  },
  {
   "cell_type": "code",
   "execution_count": 22,
   "metadata": {},
   "outputs": [
    {
     "name": "stdout",
     "output_type": "stream",
     "text": [
      "(601478, 6)\n"
     ]
    }
   ],
   "source": [
    "print(song_playlist_df.shape)"
   ]
  },
  {
   "cell_type": "code",
   "execution_count": null,
   "metadata": {},
   "outputs": [],
   "source": [
    "song_playlist_array = []\n",
    "for index,row in train_test_data.iterrows():\n",
    "  for track in row['tracks']:\n",
    "    song_playlist_array.append([track['track_uri'],track['artist_name'],track['track_name'],row['pid'],row['num_holdouts']])\n",
    "song_playlist_df = pd.DataFrame(song_playlist_array,columns=['trackid', 'artist_name', 'track_name', 'pid', 'num_holdouts'])\n",
    "\n",
    "print(song_playlist_df.shape)\n",
    "song_playlist_df.head(10)"
   ]
  },
  {
   "cell_type": "code",
   "execution_count": 23,
   "metadata": {
    "colab": {
     "base_uri": "https://localhost:8080/",
     "height": 376
    },
    "id": "Z7w0s-pSfX-L",
    "outputId": "8c7c4399-7eac-4038-b097-053a87ac03d1"
   },
   "outputs": [
    {
     "name": "stdout",
     "output_type": "stream",
     "text": [
      "111898\n"
     ]
    },
    {
     "data": {
      "text/html": [
       "<div>\n",
       "<style scoped>\n",
       "    .dataframe tbody tr th:only-of-type {\n",
       "        vertical-align: middle;\n",
       "    }\n",
       "\n",
       "    .dataframe tbody tr th {\n",
       "        vertical-align: top;\n",
       "    }\n",
       "\n",
       "    .dataframe thead th {\n",
       "        text-align: right;\n",
       "    }\n",
       "</style>\n",
       "<table border=\"1\" class=\"dataframe\">\n",
       "  <thead>\n",
       "    <tr style=\"text-align: right;\">\n",
       "      <th></th>\n",
       "      <th>trackid</th>\n",
       "      <th>artist_name</th>\n",
       "      <th>track_name</th>\n",
       "      <th>pid</th>\n",
       "      <th>num_holdouts</th>\n",
       "      <th>num_hodouts</th>\n",
       "      <th>track_index</th>\n",
       "    </tr>\n",
       "  </thead>\n",
       "  <tbody>\n",
       "    <tr>\n",
       "      <th>0</th>\n",
       "      <td>spotify:track:0UaMYEvWZi0ZqiDOoHU3YI</td>\n",
       "      <td>Missy Elliott</td>\n",
       "      <td>Lose Control (feat. Ciara &amp; Fat Man Scoop)</td>\n",
       "      <td>0</td>\n",
       "      <td>NaN</td>\n",
       "      <td>NaN</td>\n",
       "      <td>7216</td>\n",
       "    </tr>\n",
       "    <tr>\n",
       "      <th>24</th>\n",
       "      <td>spotify:track:34ceTg8ChN5HjrqiIYCn9Q</td>\n",
       "      <td>Ne-Yo</td>\n",
       "      <td>Miss Independent</td>\n",
       "      <td>0</td>\n",
       "      <td>NaN</td>\n",
       "      <td>NaN</td>\n",
       "      <td>44345</td>\n",
       "    </tr>\n",
       "    <tr>\n",
       "      <th>25</th>\n",
       "      <td>spotify:track:6GIrIt2M39wEGwjCQjGChX</td>\n",
       "      <td>Boys Like Girls</td>\n",
       "      <td>The Great Escape</td>\n",
       "      <td>0</td>\n",
       "      <td>NaN</td>\n",
       "      <td>NaN</td>\n",
       "      <td>89983</td>\n",
       "    </tr>\n",
       "    <tr>\n",
       "      <th>26</th>\n",
       "      <td>spotify:track:4E5P1XyAFtrjpiIxkydly4</td>\n",
       "      <td>Iyaz</td>\n",
       "      <td>Replay</td>\n",
       "      <td>0</td>\n",
       "      <td>NaN</td>\n",
       "      <td>NaN</td>\n",
       "      <td>60788</td>\n",
       "    </tr>\n",
       "    <tr>\n",
       "      <th>27</th>\n",
       "      <td>spotify:track:3uoQULcUWfnt6nc6J7Vgai</td>\n",
       "      <td>Kesha</td>\n",
       "      <td>Your Love Is My Drug</td>\n",
       "      <td>0</td>\n",
       "      <td>NaN</td>\n",
       "      <td>NaN</td>\n",
       "      <td>56382</td>\n",
       "    </tr>\n",
       "    <tr>\n",
       "      <th>28</th>\n",
       "      <td>spotify:track:2nbClS09zsIAqNkshg6jnp</td>\n",
       "      <td>Ne-Yo</td>\n",
       "      <td>Closer</td>\n",
       "      <td>0</td>\n",
       "      <td>NaN</td>\n",
       "      <td>NaN</td>\n",
       "      <td>40449</td>\n",
       "    </tr>\n",
       "    <tr>\n",
       "      <th>29</th>\n",
       "      <td>spotify:track:69ghzc538EQSVon2Gm3wrr</td>\n",
       "      <td>Justin Bieber</td>\n",
       "      <td>One Less Lonely Girl</td>\n",
       "      <td>0</td>\n",
       "      <td>NaN</td>\n",
       "      <td>NaN</td>\n",
       "      <td>88430</td>\n",
       "    </tr>\n",
       "    <tr>\n",
       "      <th>31</th>\n",
       "      <td>spotify:track:7oK9VyNzrYvRFo7nQEYkWN</td>\n",
       "      <td>The Killers</td>\n",
       "      <td>Mr. Brightside</td>\n",
       "      <td>0</td>\n",
       "      <td>NaN</td>\n",
       "      <td>NaN</td>\n",
       "      <td>109147</td>\n",
       "    </tr>\n",
       "    <tr>\n",
       "      <th>32</th>\n",
       "      <td>spotify:track:12qZHAeOyTf93YAWvGDTat</td>\n",
       "      <td>blink-182</td>\n",
       "      <td>All The Small Things</td>\n",
       "      <td>0</td>\n",
       "      <td>NaN</td>\n",
       "      <td>NaN</td>\n",
       "      <td>15187</td>\n",
       "    </tr>\n",
       "    <tr>\n",
       "      <th>33</th>\n",
       "      <td>spotify:track:2jFlMILIQzs7lSFudG9lbo</td>\n",
       "      <td>The Pussycat Dolls</td>\n",
       "      <td>Beep</td>\n",
       "      <td>0</td>\n",
       "      <td>NaN</td>\n",
       "      <td>NaN</td>\n",
       "      <td>39450</td>\n",
       "    </tr>\n",
       "  </tbody>\n",
       "</table>\n",
       "</div>"
      ],
      "text/plain": [
       "                                 trackid         artist_name  \\\n",
       "0   spotify:track:0UaMYEvWZi0ZqiDOoHU3YI       Missy Elliott   \n",
       "24  spotify:track:34ceTg8ChN5HjrqiIYCn9Q               Ne-Yo   \n",
       "25  spotify:track:6GIrIt2M39wEGwjCQjGChX     Boys Like Girls   \n",
       "26  spotify:track:4E5P1XyAFtrjpiIxkydly4                Iyaz   \n",
       "27  spotify:track:3uoQULcUWfnt6nc6J7Vgai               Kesha   \n",
       "28  spotify:track:2nbClS09zsIAqNkshg6jnp               Ne-Yo   \n",
       "29  spotify:track:69ghzc538EQSVon2Gm3wrr       Justin Bieber   \n",
       "31  spotify:track:7oK9VyNzrYvRFo7nQEYkWN         The Killers   \n",
       "32  spotify:track:12qZHAeOyTf93YAWvGDTat           blink-182   \n",
       "33  spotify:track:2jFlMILIQzs7lSFudG9lbo  The Pussycat Dolls   \n",
       "\n",
       "                                    track_name  pid  num_holdouts  \\\n",
       "0   Lose Control (feat. Ciara & Fat Man Scoop)    0           NaN   \n",
       "24                            Miss Independent    0           NaN   \n",
       "25                            The Great Escape    0           NaN   \n",
       "26                                      Replay    0           NaN   \n",
       "27                        Your Love Is My Drug    0           NaN   \n",
       "28                                      Closer    0           NaN   \n",
       "29                        One Less Lonely Girl    0           NaN   \n",
       "31                              Mr. Brightside    0           NaN   \n",
       "32                        All The Small Things    0           NaN   \n",
       "33                                        Beep    0           NaN   \n",
       "\n",
       "    num_hodouts  track_index  \n",
       "0           NaN         7216  \n",
       "24          NaN        44345  \n",
       "25          NaN        89983  \n",
       "26          NaN        60788  \n",
       "27          NaN        56382  \n",
       "28          NaN        40449  \n",
       "29          NaN        88430  \n",
       "31          NaN       109147  \n",
       "32          NaN        15187  \n",
       "33          NaN        39450  "
      ]
     },
     "execution_count": 23,
     "metadata": {},
     "output_type": "execute_result"
    }
   ],
   "source": [
    "song_playlist_df['track_index'] = song_playlist_df['trackid'].astype('category').cat.codes #createing a number index of every track instead of url \n",
    "print(len(song_playlist_df['track_index'].unique()))\n",
    "song_playlist_df.head(10)"
   ]
  },
  {
   "cell_type": "code",
   "execution_count": 24,
   "metadata": {
    "colab": {
     "base_uri": "https://localhost:8080/"
    },
    "id": "5IFLsWJbgRv4",
    "outputId": "3bc9f793-fa51-410a-e3b2-b2c9efde932d"
   },
   "outputs": [
    {
     "name": "stdout",
     "output_type": "stream",
     "text": [
      "13000\n"
     ]
    }
   ],
   "source": [
    "print(len(song_playlist_df['pid'].unique()))"
   ]
  },
  {
   "cell_type": "code",
   "execution_count": 25,
   "metadata": {
    "id": "smmdyivsf6SI"
   },
   "outputs": [],
   "source": [
    "#train = song_playlist_df[pd.isnull(song_playlist_df['num_holdouts'])]\n",
    "#test = song_playlist_df[pd.notnull(song_playlist_df['num_holdouts'])]"
   ]
  },
  {
   "cell_type": "code",
   "execution_count": 26,
   "metadata": {
    "id": "-U6oBJxYf6Wj"
   },
   "outputs": [],
   "source": [
    "mat = sp.dok_matrix((13000, 111898), dtype=np.float32) #mat table represent the correlation between playlists and tracks \n",
    "for pid, trackindex in zip(song_playlist_df['pid'], song_playlist_df['track_index']):\n",
    "    mat[pid, trackindex] = 1.0"
   ]
  },
  {
   "cell_type": "code",
   "execution_count": 27,
   "metadata": {
    "id": "5PAs_Fk2E6_u"
   },
   "outputs": [],
   "source": [
    "import pandas as pd\n",
    "import numpy as np\n",
    "import scipy.sparse as sp\n",
    "import tensorflow.keras as keras\n",
    "from keras import backend as K\n",
    "from keras import initializers\n",
    "from keras.models import Sequential, Model, load_model, save_model\n",
    "from keras.layers.core import Dense, Lambda, Activation\n",
    "from keras.layers import Embedding, Input, Dense, Multiply, Reshape, merge, Flatten, Concatenate\n",
    "from tensorflow.keras.optimizers import Adam\n",
    "import tensorflow as tf\n",
    "\n",
    "from keras.regularizers import l2 #ridge regression\n",
    "\n",
    "import json, sys, random, os, datetime, math"
   ]
  },
  {
   "cell_type": "code",
   "execution_count": 28,
   "metadata": {
    "id": "ul0yjWd8E7Fu"
   },
   "outputs": [],
   "source": [
    "\n",
    "def get_model(num_users, num_items, latent_dim, dense_layers=[64, 32, 16, 8],\n",
    "              reg_layers=[0, 0, 0, 0], reg_mf=0):\n",
    "\n",
    "    # input layer\n",
    "    input_user = Input(shape=(1,), dtype='int32', name='user_input')\n",
    "    input_item = Input(shape=(1,), dtype='int32', name='item_input')\n",
    "    \n",
    "    # embedding layer\n",
    "    mf_user_embedding = Embedding(input_dim=num_users, output_dim=latent_dim,\n",
    "                        name='mf_user_embedding',\n",
    "                        embeddings_initializer='RandomNormal',\n",
    "                        embeddings_regularizer=l2(reg_mf), input_length=1)\n",
    "    mf_item_embedding = Embedding(input_dim=num_items, output_dim=latent_dim,\n",
    "                        name='mf_item_embedding',\n",
    "                        embeddings_initializer='RandomNormal',\n",
    "                        embeddings_regularizer=l2(reg_mf), input_length=1)\n",
    "    mlp_user_embedding = Embedding(input_dim=num_users, output_dim=int(dense_layers[0]/2),\n",
    "                         name='mlp_user_embedding',\n",
    "                         embeddings_initializer='RandomNormal',\n",
    "                         embeddings_regularizer=l2(reg_layers[0]), \n",
    "                         input_length=1)\n",
    "    mlp_item_embedding = Embedding(input_dim=num_items, output_dim=int(dense_layers[0]/2),\n",
    "                         name='mlp_item_embedding',\n",
    "                         embeddings_initializer='RandomNormal',\n",
    "                         embeddings_regularizer=l2(reg_layers[0]), \n",
    "                         input_length=1)\n",
    "\n",
    "    # MF latent vector\n",
    "    mf_user_latent = Flatten()(mf_user_embedding(input_user))\n",
    "    mf_item_latent = Flatten()(mf_item_embedding(input_item))\n",
    "    mf_cat_latent = Multiply()([mf_user_latent, mf_item_latent])\n",
    "    ###mf_cat_latent =  tf.keras.layers.Dropout(0.2)(mf_cat_latent) # dropout layer test\n",
    "\n",
    "    # MLP latent vector\n",
    "    mlp_user_latent = Flatten()(mlp_user_embedding(input_user))\n",
    "    mlp_item_latent = Flatten()(mlp_item_embedding(input_item))\n",
    "    mlp_cat_latent = Concatenate()([mlp_user_latent, mlp_item_latent])\n",
    "    \n",
    "    mlp_vector = mlp_cat_latent\n",
    "    \n",
    "    # build dense layer for model\n",
    "    for i in range(1,len(dense_layers)):\n",
    "        layer = Dense(dense_layers[i],\n",
    "                      activity_regularizer=l2(reg_layers[i]),\n",
    "                      activation='relu',\n",
    "                      name='layer%d' % i)\n",
    "        mlp_vector = layer(mlp_vector)\n",
    "\n",
    "    predict_layer = Concatenate()([mf_cat_latent, mlp_vector])\n",
    "    result = Dense(1, activation='sigmoid', \n",
    "                   kernel_initializer='lecun_uniform',name='result')\n",
    "\n",
    "    model = Model(inputs=[input_user,input_item], outputs=result(predict_layer))\n",
    "\n",
    "    return model\n",
    "\n",
    "# get the training samples\n",
    "def get_train_samples(train_mat, num_negatives):\n",
    "    user_input, item_input, labels = [], [], []\n",
    "    num_user, num_item = train_mat.shape\n",
    "    for (u, i) in train_mat.keys():\n",
    "        user_input.append(u)\n",
    "        item_input.append(i)\n",
    "        labels.append(1)\n",
    "        # negative instances\n",
    "        for t in range(num_negatives):\n",
    "            j = np.random.randint(num_item)\n",
    "            while (u, j) in train_mat.keys():\n",
    "                j = np.random.randint(num_item)\n",
    "            user_input.append(u)\n",
    "            item_input.append(j)\n",
    "            labels.append(0)\n",
    "    return user_input, item_input, labels\n",
    "\n",
    "# hyperparameters\n",
    "loaded = True\n",
    "verbose = 1\n",
    "epochs = 7\n",
    "batch_size = 256\n",
    "latent_dim = 26 # number of features in matrix factorization\n",
    "dense_layers = [128,64,32,16]\n",
    "reg_layers = [0, 0, 0, 0] #ridge regression for every dense layer\n",
    "reg_mf = 0\n",
    "num_negatives = 8\n",
    "learning_rate = 0.001\n",
    "learner = 'adam'\n",
    "dataset = 'spotify'\n",
    "\n",
    "# loading data\n",
    "\n",
    "train_mat = mat\n",
    "\n",
    "num_users, num_items = train_mat.shape"
   ]
  },
  {
   "cell_type": "code",
   "execution_count": 29,
   "metadata": {},
   "outputs": [
    {
     "name": "stdout",
     "output_type": "stream",
     "text": [
      "Num GPUs Available:  1\n"
     ]
    }
   ],
   "source": [
    "print(\"Num GPUs Available: \", len(tf.config.experimental.list_physical_devices(\"GPU\")))"
   ]
  },
  {
   "cell_type": "code",
   "execution_count": null,
   "metadata": {
    "colab": {
     "base_uri": "https://localhost:8080/"
    },
    "id": "x8Rb7zYJE7I5",
    "outputId": "4c507b69-ee33-490d-80d8-06fd3b224536"
   },
   "outputs": [],
   "source": [
    "# get model\n",
    "model = get_model(num_users, num_items, latent_dim, dense_layers, reg_layers, reg_mf)\n",
    "model.compile(optimizer=Adam(learning_rate=learning_rate), loss='binary_crossentropy', metrics=['accuracy'])\n",
    "print(model.summary())\n",
    "    \n",
    "# train model\n",
    "# generate training instances\n",
    "user_input, item_input, labels = get_train_samples(train_mat, num_negatives)\n",
    "\n",
    "# training\n",
    "hist = model.fit([np.array(user_input), np.array(item_input)], np.array(labels), \n",
    "                 batch_size=batch_size, epochs=epochs, verbose=verbose, shuffle=True)"
   ]
  },
  {
   "cell_type": "code",
   "execution_count": null,
   "metadata": {
    "colab": {
     "base_uri": "https://localhost:8080/"
    },
    "id": "1BVcPRMZE7Lr",
    "outputId": "579eddb7-875c-4642-b163-0c5488b77ffd"
   },
   "outputs": [],
   "source": [
    "#name = \"spotify_v_26_4k_128_test.h5\"\n",
    "#model.save(r\"C:\\Users\\user\\Documents\\SpotifyComptetition\\Models\\Model_NCF_\" + name, overwrite=True)"
   ]
  },
  {
   "cell_type": "code",
   "execution_count": 30,
   "metadata": {
    "colab": {
     "base_uri": "https://localhost:8080/"
    },
    "id": "hPXCMRSfAb7h",
    "outputId": "a6052bf9-47d9-46ab-ff81-92f3ec782af6"
   },
   "outputs": [
    {
     "name": "stdout",
     "output_type": "stream",
     "text": [
      "using model: C:\\Users\\user\\Documents\\SpotifyComptetition\\Models\\Model_NCF_spotify_v_26_4k_128_test_and_content.h5\n",
      "Loaded model!\n",
      "\n",
      "Performing kmeans to find the nearest users/playlists\n"
     ]
    }
   ],
   "source": [
    "from keras.models import load_model\n",
    "from sklearn.cluster import KMeans\n",
    "\n",
    "model_path = r\"C:\\Users\\user\\Documents\\SpotifyComptetition\\Models\\Model_NCF_spotify_v_26_4k_128_test_and_content.h5\"\n",
    "print('using model: %s' % model_path)\n",
    "model = load_model(model_path)\n",
    "print('Loaded model!')\n",
    "\n",
    "mlp_user_embedding_weights = (next(iter(filter(lambda x: x.name == 'mlp_user_embedding', model.layers))).get_weights())\n",
    "\n",
    "# Get laten embedding for desired user\n",
    "user_latent_matrix = mlp_user_embedding_weights[0]\n",
    "\n",
    "print('\\nPerforming kmeans to find the nearest users/playlists')\n",
    "kmeans = KMeans(n_clusters=320, random_state=0, verbose=0).fit(user_latent_matrix)"
   ]
  },
  {
   "cell_type": "code",
   "execution_count": null,
   "metadata": {},
   "outputs": [],
   "source": [
    "desired_user_id = 500\n",
    "\n",
    "# Get laten embedding for desired user\n",
    "one_user_vector = user_latent_matrix[desired_user_id,:]\n",
    "one_user_vector = np.reshape(one_user_vector, (1,64))\n",
    "\n",
    "desired_user_label = kmeans.predict(one_user_vector)\n",
    "user_label = kmeans.labels_\n",
    "neighbors = []\n",
    "for user_id, user_label in enumerate(user_label):\n",
    "    if user_label == desired_user_label:\n",
    "        neighbors.append(user_id)\n",
    "print('Found {0} neighbor users/playlists.'.format(len(neighbors)))"
   ]
  },
  {
   "cell_type": "code",
   "execution_count": null,
   "metadata": {},
   "outputs": [],
   "source": [
    "# get the tracks in similar users playlists ### test removing duplicates at earlier stage\n",
    "tracks = []\n",
    "for user_id in neighbors:\n",
    "    tracks += list(song_playlist_df[song_playlist_df['pid'] == int(user_id)]['track_index'])\n",
    "print('Found {0} neighbor tracks from these users.'.format(len(tracks))) \n",
    "\n",
    "tracks = list(set(tracks))\n",
    "\n",
    "print(len(tracks))\n",
    "\n",
    "users = np.full(len(tracks), desired_user_id, dtype='int32')\n",
    "items = np.array(tracks, dtype='int32')\n",
    "\n",
    "print('\\nRanking most likely tracks using the NeuMF model...')\n",
    "# and predict tracks for my user\n",
    "results = model.predict([users,items],batch_size=100, verbose=0) \n",
    "results = results.tolist()\n",
    "print('Ranked the tracks!')"
   ]
  },
  {
   "cell_type": "code",
   "execution_count": null,
   "metadata": {},
   "outputs": [],
   "source": [
    "len(tracks)"
   ]
  },
  {
   "cell_type": "code",
   "execution_count": null,
   "metadata": {
    "colab": {
     "base_uri": "https://localhost:8080/"
    },
    "id": "GBaTDYVRBD7L",
    "outputId": "591620b6-e9af-4679-9451-da811dd41cc9"
   },
   "outputs": [],
   "source": [
    "# get the tracks in similar users playlists\n",
    "tracks = []\n",
    "for user_id in neighbors:\n",
    "    tracks += list(song_playlist_df[song_playlist_df['pid'] == int(user_id)]['track_index'])\n",
    "print('Found {0} neighbor tracks from these users.'.format(len(tracks))) \n",
    "\n",
    "users = np.full(len(tracks), desired_user_id, dtype='int32')\n",
    "items = np.array(tracks, dtype='int32')\n",
    "\n",
    "print('\\nRanking most likely tracks using the NeuMF model...')\n",
    "# and predict tracks for my user\n",
    "results = model.predict([users,items],batch_size=100, verbose=0) \n",
    "results = results.tolist()\n",
    "print('Ranked the tracks!')"
   ]
  },
  {
   "cell_type": "code",
   "execution_count": null,
   "metadata": {},
   "outputs": [],
   "source": [
    "print(items) ### test"
   ]
  },
  {
   "cell_type": "code",
   "execution_count": null,
   "metadata": {
    "colab": {
     "base_uri": "https://localhost:8080/"
    },
    "id": "Lhl3RcYWCcB8",
    "outputId": "0d7492ed-583c-4292-d856-3f3e9bff24cb"
   },
   "outputs": [],
   "source": [
    "%%time\n",
    "results_df = pd.DataFrame(np.nan, index=range(len(results)), columns=['probability','track_name', 'track artist', 'track_id', 'track_uri'])\n",
    "print(results_df.shape)\n",
    "\n",
    "# Connect tracks names with the probability that user will like them \n",
    "for i, prob in enumerate(results):\n",
    "    results_df.loc[i] = [prob[0], song_playlist_df[song_playlist_df['track_index'] == tracks[i]].iloc[0]['track_name'], song_playlist_df[song_playlist_df['track_index'] == tracks[i]].iloc[0]['artist_name'], tracks[i],song_playlist_df[song_playlist_df['track_index'] == tracks[i]].iloc[0]['trackid']]\n",
    "results_df = results_df.sort_values(by=['probability'], ascending=False)\n"
   ]
  },
  {
   "cell_type": "code",
   "execution_count": null,
   "metadata": {},
   "outputs": [],
   "source": [
    "%%time\n",
    "results_df = pd.DataFrame(np.nan, index=range(len(results)), columns=['probability','track_uri'])\n",
    "print(results_df.shape)\n",
    "\n",
    "# Connect tracks names with the probability that user will like them \n",
    "for i, prob in enumerate(results):\n",
    "    results_df.loc[i] = [prob[0], song_playlist_df[song_playlist_df['track_index'] == tracks[i]].iloc[0]['trackid']]\n",
    "results_df = results_df.sort_values(by=['probability'], ascending=False)"
   ]
  },
  {
   "cell_type": "code",
   "execution_count": null,
   "metadata": {
    "id": "F8dZbNfiTjzw"
   },
   "outputs": [],
   "source": [
    "temp = song_playlist_df[song_playlist_df['pid'] == desired_user_id]\n",
    "temp = temp['trackid']"
   ]
  },
  {
   "cell_type": "code",
   "execution_count": null,
   "metadata": {
    "id": "_gMB9TDrWjJ7"
   },
   "outputs": [],
   "source": [
    "results_df = results_df.drop_duplicates(subset=['track_uri'])\n",
    "print(len(results_df))"
   ]
  },
  {
   "cell_type": "code",
   "execution_count": null,
   "metadata": {},
   "outputs": [],
   "source": [
    "len(set(temp) - set_of_reccomended_tracks_by_content_based[desired_user_id])"
   ]
  },
  {
   "cell_type": "code",
   "execution_count": null,
   "metadata": {
    "colab": {
     "base_uri": "https://localhost:8080/",
     "height": 359
    },
    "id": "gCZtdHQ6Sn1t",
    "outputId": "c5689288-e5a0-4d24-dc13-68bdef20845e"
   },
   "outputs": [],
   "source": [
    "results_df = results_df[~results_df.track_uri.isin(set(temp) - set_of_reccomended_tracks_by_content_based[desired_user_id])]\n",
    "len(results_df)"
   ]
  },
  {
   "cell_type": "code",
   "execution_count": null,
   "metadata": {},
   "outputs": [],
   "source": [
    "results_df = results_df[~results_df.track_uri.isin(temp)]"
   ]
  },
  {
   "cell_type": "code",
   "execution_count": null,
   "metadata": {},
   "outputs": [],
   "source": [
    "len(results_df)"
   ]
  },
  {
   "cell_type": "code",
   "execution_count": null,
   "metadata": {},
   "outputs": [],
   "source": [
    "results_df = results_df[0:500]['track_uri'].values"
   ]
  },
  {
   "cell_type": "code",
   "execution_count": null,
   "metadata": {},
   "outputs": [],
   "source": [
    "results_df = results_df.tolist()"
   ]
  },
  {
   "cell_type": "code",
   "execution_count": null,
   "metadata": {},
   "outputs": [],
   "source": [
    "#results_df"
   ]
  },
  {
   "cell_type": "code",
   "execution_count": null,
   "metadata": {},
   "outputs": [],
   "source": [
    "most_popular_songs = song_playlist_df['trackid'].value_counts().index.tolist()[:500]"
   ]
  },
  {
   "cell_type": "code",
   "execution_count": null,
   "metadata": {},
   "outputs": [],
   "source": [
    "if(len(results_df) < 500):\n",
    "        temp_most_popular = (set(most_popular_songs) - set(results_df))\n",
    "        print(len(temp_most_popular))\n",
    "        results_df.extend(temp_most_popular)\n",
    "        results_df = results_df[:500]"
   ]
  },
  {
   "cell_type": "code",
   "execution_count": null,
   "metadata": {},
   "outputs": [],
   "source": [
    "print(len(results_df))\n",
    "results_df[:15]"
   ]
  },
  {
   "cell_type": "code",
   "execution_count": null,
   "metadata": {},
   "outputs": [],
   "source": [
    "song_playlist_df[song_playlist_df['pid'] == desired_user_id]"
   ]
  },
  {
   "cell_type": "code",
   "execution_count": null,
   "metadata": {},
   "outputs": [],
   "source": [
    "temp_list = []\n",
    "for row in test_tracks_dict:\n",
    "    if(row[0] == desired_user_id):\n",
    "        temp_list.append(row[1])"
   ]
  },
  {
   "cell_type": "code",
   "execution_count": null,
   "metadata": {},
   "outputs": [],
   "source": [
    "temp_list"
   ]
  },
  {
   "cell_type": "code",
   "execution_count": null,
   "metadata": {},
   "outputs": [],
   "source": [
    "set(results_df).intersection(set(temp_list))"
   ]
  },
  {
   "cell_type": "code",
   "execution_count": 31,
   "metadata": {},
   "outputs": [],
   "source": [
    "most_popular_songs = song_playlist_df['trackid'].value_counts().index.tolist()[:500]"
   ]
  },
  {
   "cell_type": "code",
   "execution_count": null,
   "metadata": {},
   "outputs": [],
   "source": [
    "%%time\n",
    "#### Get csv for submition\n",
    "final_list_to_csv = []\n",
    "for playlist_id in range(2500,7000,100):\n",
    "    \n",
    "    #print(playlist_id)\n",
    "    desired_user_id = playlist_id\n",
    "\n",
    "    # Get laten embedding for desired user\n",
    "    one_user_vector = user_latent_matrix[desired_user_id,:]\n",
    "    one_user_vector = np.reshape(one_user_vector, (1,128))\n",
    "\n",
    "    desired_user_label = kmeans.predict(one_user_vector)\n",
    "    user_label = kmeans.labels_\n",
    "    neighbors = []\n",
    "    for user_id, user_label in enumerate(user_label):\n",
    "        if user_label == desired_user_label:\n",
    "            neighbors.append(user_id)\n",
    "    #print('Found {0} neighbor users/playlists.'.format(len(neighbors)))\n",
    "\n",
    "    tracks = []\n",
    "    for user_id in neighbors:\n",
    "        tracks += list(song_playlist_df[song_playlist_df['pid'] == int(user_id)]['track_index'])\n",
    "    #print('Found {0} neighbor tracks from these users.'.format(len(tracks))) \n",
    "    \n",
    "    tracks = list(set(tracks))\n",
    "    \n",
    "    users = np.full(len(tracks), desired_user_id, dtype='int32')\n",
    "    items = np.array(tracks, dtype='int32')\n",
    "\n",
    "    #print('\\nRanking most likely tracks using the NeuMF model...')\n",
    "    # and predict tracks for my user\n",
    "    results = model.predict([users,items],batch_size=100, verbose=0) \n",
    "    results = results.tolist()\n",
    "    #print('Ranked the tracks!')\n",
    "\n",
    "    results_df = pd.DataFrame(np.nan, index=range(len(results)), columns=['probability','track_uri'])\n",
    "    #print(results_df.shape)\n",
    "\n",
    "    # Connect tracks names with the probability that user will like them \n",
    "    for i, prob in enumerate(results):\n",
    "        results_df.loc[i] = [prob[0], song_playlist_df[song_playlist_df['track_index'] == tracks[i]].iloc[0]['trackid']]\n",
    "    results_df = results_df.sort_values(by=['probability'], ascending=False)\n",
    "\n",
    "    #deleting duplicates and tracks that alaready exist in playlist\n",
    "    temp = song_playlist_df[song_playlist_df['pid'] == desired_user_id]\n",
    "    temp = temp['trackid']\n",
    "\n",
    "    results_df = results_df.drop_duplicates(subset=['track_uri'])\n",
    "    #print(len(results_df))\n",
    "\n",
    "\n",
    "    results_df = results_df[~results_df.track_uri.isin(temp)]\n",
    "    #len(results_df)\n",
    "    \n",
    "    songs_that_exist_in_playlist = temp.values.tolist()\n",
    "    \n",
    "    #results_df = results_df[:500]\n",
    "    results_df = results_df[0:500]['track_uri'].values.tolist()\n",
    "    \n",
    "    if (len(results_df) < 500):\n",
    "        temp_most_popular = list(set(most_popular_songs) - (set(results_df)+ set(songs_that_exist_in_playlist)))\n",
    "        results_df.extend(temp_most_popular)\n",
    "        results_df = results_df[:500]\n",
    "    \n",
    "    temp_list = [str(challenge_set_pid_last_9000[playlist_id - 49000])]\n",
    "    temp_list.extend(results_df)\n",
    "    #for index,row in results_df.iterrows():\n",
    "     #   temp_list.append(row['track_uri'])\n",
    "    final_list_to_csv.append(temp_list)"
   ]
  },
  {
   "cell_type": "code",
   "execution_count": null,
   "metadata": {},
   "outputs": [],
   "source": [
    "#final_list_to_csv"
   ]
  },
  {
   "cell_type": "code",
   "execution_count": null,
   "metadata": {},
   "outputs": [],
   "source": [
    "temp_most_popular"
   ]
  },
  {
   "cell_type": "code",
   "execution_count": null,
   "metadata": {},
   "outputs": [],
   "source": [
    "songs_that_exist_in_playlist"
   ]
  },
  {
   "cell_type": "code",
   "execution_count": null,
   "metadata": {},
   "outputs": [],
   "source": [
    "#final_list_to_csv"
   ]
  },
  {
   "cell_type": "code",
   "execution_count": null,
   "metadata": {},
   "outputs": [],
   "source": [
    "import csv\n",
    "\n",
    "with open('fix.csv', 'w') as f:\n",
    "    write = csv.writer(f)\n",
    "    write.writerows(final_list_to_csv)"
   ]
  },
  {
   "cell_type": "code",
   "execution_count": null,
   "metadata": {},
   "outputs": [],
   "source": [
    "%%time\n",
    "#### Get csv for submition\n",
    "accuracy = 0\n",
    "number_of_playlists = 0\n",
    "final_list_to_csv = []\n",
    "for playlist_id in range(2500,7000,100):\n",
    "    \n",
    "    print(playlist_id)\n",
    "    desired_user_id = playlist_id\n",
    "\n",
    "    # Get laten embedding for desired user\n",
    "    one_user_vector = user_latent_matrix[desired_user_id,:]\n",
    "    one_user_vector = np.reshape(one_user_vector, (1,64))\n",
    "\n",
    "    desired_user_label = kmeans.predict(one_user_vector)\n",
    "    user_label = kmeans.labels_\n",
    "    neighbors = []\n",
    "    for user_id, user_label in enumerate(user_label):\n",
    "        if user_label == desired_user_label:\n",
    "            neighbors.append(user_id)\n",
    "    #print('Found {0} neighbor users/playlists.'.format(len(neighbors)))\n",
    "        \n",
    "    tracks = []\n",
    "    for user_id in neighbors:\n",
    "        tracks += list(song_playlist_df[song_playlist_df['pid'] == int(user_id)]['track_index'])\n",
    "    #print('Found {0} neighbor tracks from these users.'.format(len(tracks)))\n",
    "    \n",
    "    tracks = list(set(tracks))\n",
    "\n",
    "    users = np.full(len(tracks), desired_user_id, dtype='int32')\n",
    "    items = np.array(tracks, dtype='int32')\n",
    "\n",
    "    #print('\\nRanking most likely tracks using the NeuMF model...')\n",
    "    # and predict tracks for my user\n",
    "    results = model.predict([users,items],batch_size=100, verbose=0) \n",
    "    results = results.tolist()\n",
    "    #print('Ranked the tracks!')\n",
    "\n",
    "    results_df = pd.DataFrame(np.nan, index=range(len(results)), columns=['probability','track_uri'])\n",
    "    #print(results_df.shape)\n",
    "\n",
    "    # Connect tracks names with the probability that user will like them \n",
    "    for i, prob in enumerate(results):\n",
    "        results_df.loc[i] = [prob[0], song_playlist_df[song_playlist_df['track_index'] == tracks[i]].iloc[0]['trackid']]\n",
    "    results_df = results_df.sort_values(by=['probability'], ascending=False)\n",
    "\n",
    "    #deleting duplicates and tracks that alaready exist in playlist\n",
    "    temp = song_playlist_df[song_playlist_df['pid'] == desired_user_id]\n",
    "    temp = temp['trackid']\n",
    "\n",
    "    results_df = results_df.drop_duplicates(subset=['track_uri'])\n",
    "    #print(len(results_df))\n",
    "\n",
    "\n",
    "    results_df = results_df[~results_df.track_uri.isin(temp)]\n",
    "    #len(results_df)\n",
    "    \n",
    "    songs_that_exist_in_playlist = temp.values.tolist()\n",
    "    \n",
    "    #results_df = results_df[:500]\n",
    "    results_df = results_df[0:500]['track_uri'].values.tolist()\n",
    "    \n",
    "    if (len(results_df) < 500):\n",
    "        temp_most_popular = list(set(most_popular_songs) - (set(results_df).union(set(songs_that_exist_in_playlist))))\n",
    "        results_df.extend(temp_most_popular)\n",
    "        results_df = results_df[:500]\n",
    "    \n",
    "    temp_list = []\n",
    "    for row in test_tracks_dict:\n",
    "        if(row[0] == desired_user_id):\n",
    "            temp_list.append(row[1])\n",
    "    \n",
    "    intersect_model_test = set(results_df).intersection(set(temp_list))\n",
    "    #print(intersect_model_test)\n",
    "    #print(\"test_tracks :\" +str(len(temp_list)))\n",
    "    #print(\"number of right predictions :\" +str(len(intersect_model_test)))\n",
    "    \n",
    "    \n",
    "    if(len(temp_list) != 0):\n",
    "        number_of_playlists += 1\n",
    "        accuracy += len(intersect_model_test)/len(temp_list)\n",
    "    \n",
    "    #temp_list = [str(challenge_set_pid_last_9000[playlist_id - 9000])]\n",
    "    #temp_list.extend(results_df)\n",
    "    #for index,row in results_df.iterrows():\n",
    "     #   temp_list.append(row['track_uri'])\n",
    "    #final_list_to_csv.append(temp_list)"
   ]
  },
  {
   "cell_type": "code",
   "execution_count": null,
   "metadata": {},
   "outputs": [],
   "source": [
    "accuracy/number_of_playlists"
   ]
  },
  {
   "cell_type": "code",
   "execution_count": null,
   "metadata": {},
   "outputs": [],
   "source": [
    "#(2500,7000,100)\n",
    "#22\n",
    "#25 Model_NCF_spotify_v_26_10k_128\n",
    "#26\n",
    "#35\n",
    "#33\n",
    "#37\n",
    "#0.387 montelo me 70k kai 650 clusters sto kmeans\n",
    "#0.1111111111111111"
   ]
  },
  {
   "cell_type": "code",
   "execution_count": null,
   "metadata": {},
   "outputs": [],
   "source": [
    "#33 lepta\n",
    "#420-550 n clusters perirrgo anevikan se merika playlist ta gitonika"
   ]
  },
  {
   "cell_type": "code",
   "execution_count": null,
   "metadata": {},
   "outputs": [],
   "source": [
    "#(2500,35000,500) modelo me 50k 0.278\n",
    "#(2500,35000,500) modelo me 70k 0.312  "
   ]
  },
  {
   "cell_type": "code",
   "execution_count": 32,
   "metadata": {},
   "outputs": [
    {
     "name": "stdout",
     "output_type": "stream",
     "text": [
      "Wall time: 18min 56s\n"
     ]
    }
   ],
   "source": [
    "%%time\n",
    "#### Evaluator for hybrid contentbased_colaborative\n",
    "accuracy = 0\n",
    "number_of_playlists = 0\n",
    "final_list_to_csv = []\n",
    "number_of_total_rights_predictions = 0\n",
    "for playlist_id in range(4000,4500,1):#1400 155\n",
    "    \n",
    "    #print(playlist_id)\n",
    "    desired_user_id = playlist_id\n",
    "\n",
    "    # Get laten embedding for desired user\n",
    "    one_user_vector = user_latent_matrix[desired_user_id,:]\n",
    "    one_user_vector = np.reshape(one_user_vector, (1,64))\n",
    "    \n",
    "    desired_user_label = kmeans.predict(one_user_vector)\n",
    "    user_label = kmeans.labels_\n",
    "    neighbors = []\n",
    "    for user_id, user_label in enumerate(user_label):\n",
    "        if user_label == desired_user_label:\n",
    "            neighbors.append(user_id)\n",
    "    #print('Found {0} neighbor users/playlists.'.format(len(neighbors)))\n",
    "\n",
    "    tracks = []\n",
    "    for user_id in neighbors:\n",
    "        tracks += list(song_playlist_df[song_playlist_df['pid'] == int(user_id)]['track_index'])\n",
    "    #print('Found {0} neighbor tracks from these users.'.format(len(tracks)))\n",
    "    \n",
    "    tracks = list(set(tracks))\n",
    "\n",
    "    users = np.full(len(tracks), desired_user_id, dtype='int32')\n",
    "    items = np.array(tracks, dtype='int32')\n",
    "\n",
    "    #print('\\nRanking most likely tracks using the NeuMF model...')\n",
    "    # and predict tracks for my user\n",
    "    results = model.predict([users,items],batch_size=100, verbose=0) \n",
    "    results = results.tolist()\n",
    "    #print('Ranked the tracks!')\n",
    "\n",
    "    results_df = pd.DataFrame(np.nan, index=range(len(results)), columns=['probability','track_uri'])\n",
    "    #print(results_df.shape)\n",
    "\n",
    "    # Connect tracks names with the probability that user will like them \n",
    "    for i, prob in enumerate(results):\n",
    "        results_df.loc[i] = [prob[0], song_playlist_df[song_playlist_df['track_index'] == tracks[i]].iloc[0]['trackid']]\n",
    "    results_df = results_df.sort_values(by=['probability'], ascending=False)\n",
    "\n",
    "    #deleting duplicates and tracks that alaready exist in playlist\n",
    "    temp = song_playlist_df[song_playlist_df['pid'] == desired_user_id]\n",
    "    temp = temp['trackid'].values.tolist()\n",
    "    #print(len(temp))\n",
    "    #if(playlist_id in set_of_reccomended_tracks_by_content_based):\n",
    "        #temp = list(set(temp)- set_of_reccomended_tracks_by_content_based[desired_user_id])\n",
    "        #print(len(temp))\n",
    "\n",
    "    results_df = results_df.drop_duplicates(subset=['track_uri'])\n",
    "    #print(len(results_df))\n",
    "\n",
    "\n",
    "    results_df = results_df[~results_df.track_uri.isin(temp)]\n",
    "    #len(results_df)\n",
    "    \n",
    "    songs_that_exist_in_playlist = temp\n",
    "    #songs_that_exist_in_playlist = temp.values.tolist()\n",
    "    \n",
    "    #results_df = results_df[:500]\n",
    "    results_df = results_df[0:500]['track_uri'].values.tolist()\n",
    "    \n",
    "    if (len(results_df) < 500):\n",
    "        temp_most_popular = list(set(most_popular_songs) - (set(results_df).union(set(songs_that_exist_in_playlist))))\n",
    "        results_df.extend(temp_most_popular)\n",
    "        results_df = results_df[:500]\n",
    "    \n",
    "    temp_list = []\n",
    "    for row in test_tracks_dict:\n",
    "        if(row[0] == desired_user_id):\n",
    "            temp_list.append(row[1])\n",
    "    \n",
    "    intersect_model_test = set(results_df).intersection(set(temp_list))\n",
    "    #print(intersect_model_test)\n",
    "    #print(\"test_tracks :\" +str(len(temp_list)))\n",
    "    #print(\"number of right predictions :\" +str(len(intersect_model_test)))\n",
    "    \n",
    "    \n",
    "    if(len(temp_list) != 0):\n",
    "        number_of_playlists += 1\n",
    "        number_of_total_rights_predictions += len(intersect_model_test)\n",
    "        accuracy += len(intersect_model_test)/len(temp_list)\n",
    "    \n",
    "    #temp_list = [str(challenge_set_pid_last_9000[playlist_id - 9000])]\n",
    "    #temp_list.extend(results_df)\n",
    "    #for index,row in results_df.iterrows():\n",
    "     #   temp_list.append(row['track_uri'])\n",
    "    #final_list_to_csv.append(temp_list)"
   ]
  },
  {
   "cell_type": "code",
   "execution_count": 33,
   "metadata": {},
   "outputs": [
    {
     "data": {
      "text/plain": [
       "0.13099415204678364"
      ]
     },
     "execution_count": 33,
     "metadata": {},
     "output_type": "execute_result"
    }
   ],
   "source": [
    "accuracy/number_of_playlists"
   ]
  },
  {
   "cell_type": "code",
   "execution_count": 34,
   "metadata": {},
   "outputs": [
    {
     "data": {
      "text/plain": [
       "37.333333333333336"
      ]
     },
     "execution_count": 34,
     "metadata": {},
     "output_type": "execute_result"
    }
   ],
   "source": [
    "accuracy"
   ]
  },
  {
   "cell_type": "code",
   "execution_count": null,
   "metadata": {},
   "outputs": [],
   "source": [
    "number_of_playlists"
   ]
  },
  {
   "cell_type": "code",
   "execution_count": null,
   "metadata": {},
   "outputs": [],
   "source": [
    "number_of_total_rights_predictions"
   ]
  },
  {
   "cell_type": "code",
   "execution_count": null,
   "metadata": {},
   "outputs": [],
   "source": [
    "number_of_playlists"
   ]
  },
  {
   "cell_type": "code",
   "execution_count": null,
   "metadata": {},
   "outputs": [],
   "source": [
    "#range(10000,10100,5)\n",
    "#0.2037037037037037 8k test + content\n",
    "#!!!0.0491439393939394 me 70k xwris content auto einai la8os eprepe na psaksw gia 70000 mexri 70100 \n",
    "#0.4230769230769231 me 10k kai content\n",
    "#0.07692307692307693 me 10k kai xwris content\n",
    "#0.125 me 100k kai content gia kapoio logo exei pesei poli se sxesh me to 10k \n",
    "#range(2500,7000,100):\n",
    "#0.3954761118479249 me 70k kai xwris content\n",
    "#0.23130283085514278 me 10 kai content\n",
    "#0.22936537628474749 me 10 xwris content\n",
    "#range(2500,20000,210)\n",
    "#0.361008428381945 100k + content\n",
    "#range(100000,100300,10):\n",
    "#0.13333 100k + content"
   ]
  }
 ],
 "metadata": {
  "colab": {
   "collapsed_sections": [],
   "name": "SpotifyRecSystem.ipynb",
   "provenance": []
  },
  "kernelspec": {
   "display_name": "Python 3 (ipykernel)",
   "language": "python",
   "name": "python3"
  },
  "language_info": {
   "codemirror_mode": {
    "name": "ipython",
    "version": 3
   },
   "file_extension": ".py",
   "mimetype": "text/x-python",
   "name": "python",
   "nbconvert_exporter": "python",
   "pygments_lexer": "ipython3",
   "version": "3.7.11"
  }
 },
 "nbformat": 4,
 "nbformat_minor": 4
}
